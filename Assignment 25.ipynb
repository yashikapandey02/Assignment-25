{
 "cells": [
  {
   "cell_type": "code",
   "execution_count": null,
   "id": "e50efb63",
   "metadata": {},
   "outputs": [],
   "source": [
    "1. What is the difference between enclosing a list comprehension in square brackets and\n",
    "parentheses?"
   ]
  },
  {
   "cell_type": "code",
   "execution_count": null,
   "id": "d4a7ff58",
   "metadata": {},
   "outputs": [],
   "source": [
    "Ans:The difference between the two kinds of expressions is that the List comprehension is enclosed in square brackets [] while the Generator expression is enclosed in plain parentheses ()"
   ]
  },
  {
   "cell_type": "code",
   "execution_count": null,
   "id": "a19b46af",
   "metadata": {},
   "outputs": [],
   "source": [
    "2.What is the relationship between generators and iterators?"
   ]
  },
  {
   "cell_type": "code",
   "execution_count": null,
   "id": "43b08cf0",
   "metadata": {},
   "outputs": [],
   "source": [
    "Ans:Generators : It is another way of creating iterators in a simple way where it uses the keyword “yield” instead of returning \n",
    "        it in a defined function. Generators are implemented using a function. Just as iterators, generators also follow lazy evaluation. Here, the yield function returns the data without affecting or exiting the function. It will return a sequence of data in an iterable format where we need to iterate over the sequence to use the data as they won’t store the entire sequence in the memory.\n",
    "\n",
    "Iterators : An iterator is an object which contains a countable number of values and it is used to iterate over iterable objects like list, tuples, sets, etc. Iterators are implemented using a class and a local variable for iterating is not required here, It follows lazy evaluation where the evaluation of the expression will be on hold and stored in the memory until the item is called specifically which helps us to avoid repeated evaluation. As lazy evaluation is implemented, it requires only 1 memory location to process the value and when we are using a large dataset then, wastage of RAM space will be reduced the need to load the entire dataset at the same time will not be there."
   ]
  },
  {
   "cell_type": "code",
   "execution_count": null,
   "id": "3a43ae87",
   "metadata": {},
   "outputs": [],
   "source": [
    "3.What are the signs that a function is a generator function?"
   ]
  },
  {
   "cell_type": "code",
   "execution_count": null,
   "id": "2c11b7fe",
   "metadata": {},
   "outputs": [],
   "source": [
    "Ans:In a generator function, a yield statement is used rather than a return statement."
   ]
  },
  {
   "cell_type": "code",
   "execution_count": null,
   "id": "7450eb23",
   "metadata": {},
   "outputs": [],
   "source": [
    "4.What is the purpose of a yield statement?"
   ]
  },
  {
   "cell_type": "code",
   "execution_count": null,
   "id": "9f6f1ab9",
   "metadata": {},
   "outputs": [],
   "source": [
    "Ans:Yield is a keyword in Python that is used to return from a function without destroying the states of its local variable\n",
    "and when the function is called, the execution starts from the last yield statement. Any function that contains a yield keyword\n",
    "is termed as generator. Hence, yield is what makes a generator. yield keyword in Python is less known off but has a greater utility which one can think of."
   ]
  },
  {
   "cell_type": "code",
   "execution_count": null,
   "id": "e03e88ef",
   "metadata": {},
   "outputs": [],
   "source": [
    "5.What is the relationship between map calls and list comprehensions? Make a comparison and contrast between the two."
   ]
  },
  {
   "cell_type": "code",
   "execution_count": null,
   "id": "c9e80c56",
   "metadata": {},
   "outputs": [],
   "source": [
    "Ans:List comprehension is more concise and easier to read as compared to map.\n",
    "\n",
    "List comprehension allows filtering. In map, we have no such facility. For example, to print all even numbers in range of 100, we can write [n for n in range(100) if n%2 == 0]. There is no alternate for it in map.\n",
    "\n",
    "List comprehension are used when a list of results is required as map only returns a map object and does not return any list.\n",
    "\n",
    "List comprehension is faster than map when we need to evaluate expressions that are too long or complicated to express.\n",
    "\n",
    "Map is faster in case of calling an already defined function (as no lambda is required)."
   ]
  }
 ],
 "metadata": {
  "kernelspec": {
   "display_name": "Python 3 (ipykernel)",
   "language": "python",
   "name": "python3"
  },
  "language_info": {
   "codemirror_mode": {
    "name": "ipython",
    "version": 3
   },
   "file_extension": ".py",
   "mimetype": "text/x-python",
   "name": "python",
   "nbconvert_exporter": "python",
   "pygments_lexer": "ipython3",
   "version": "3.9.7"
  }
 },
 "nbformat": 4,
 "nbformat_minor": 5
}
